{
  "nbformat": 4,
  "nbformat_minor": 0,
  "metadata": {
    "colab": {
      "provenance": []
    },
    "kernelspec": {
      "name": "python3",
      "display_name": "Python 3"
    },
    "language_info": {
      "name": "python"
    }
  },
  "cells": [
    {
      "cell_type": "code",
      "execution_count": null,
      "metadata": {
        "id": "Ds7-GUXHCQT5"
      },
      "outputs": [],
      "source": []
    },
    {
      "cell_type": "markdown",
      "source": [
        "###  **Q1. What are data structures, and why are they important?**\n",
        "  **Ans.-**Data structures are fundamental in computer science, providing\n",
        "  organized ways to store and manage data efficiently. They are essential\n",
        "   because they allow for quick and easy access, manipulation, and processing\n",
        "  of information, which is crucial for building efficient and scalable\n",
        "  software applications.\n",
        "\n",
        "Why are data structures important?\n",
        "\n",
        "**Efficiency:-**\n",
        "\n",
        "Data structures are designed to optimize how data is stored and retrieved.\n",
        " Different structures excel at different tasks, allowing developers to choose\n",
        "  the most efficient one for a specific problem.\n",
        "\n",
        "**Readability:-**\n",
        "\n",
        "Well-organized data structures make it easier to understand and work with data, leading to more maintainable and readable code.\n",
        "\n",
        "**Scalability:-**\n",
        "\n",
        "As the complexity of data and applications grows, data structures play\n",
        " a vital role in ensuring that systems can handle large amounts of data\n",
        "  without performance degradation.\n",
        "\n",
        "**Problem-solving:-**\n",
        "\n",
        "Data structures provide the building blocks for algorithms and enable developers to design efficient solutions to various problems.\n",
        "\n",
        "**Foundation for algorithms:-**\n",
        "\n",
        "Many algorithms rely on specific data structures to perform their operations efficiently. Understanding data structures is therefore crucial for understanding and implementing algorithms.\n",
        "\n",
        "**Examples of data structures:-**\n",
        "\n",
        "Arrays: Store a fixed-size collection of elements of the same data type.\n",
        "Linked Lists: Allow dynamic addition and removal of elements, making them\n",
        " useful for managing lists where the size can vary.\n",
        "\n",
        "**Trees:-**\n",
        "\n",
        " Hierarchical structures used for searching, sorting, and organizing data.\n",
        "\n",
        "**Graphs:-**\n",
        "\n",
        "Represent relationships between data elements, commonly used in social networks, maps, and other applications.\n",
        "\n",
        "**Hash Tables:-**\n",
        "\n",
        " Provide fast lookups by using a hash function to map keys to values.\n",
        "\n",
        "**Stacks and Queues:-**\n",
        "\n",
        " Linear data structures with specific insertion and removal rules (last-in, first-out for stacks, first-in, first-out for queues).\n",
        "\n",
        "\n",
        "### **Q2. Explain the difference between mutable and immutable data types with examples?**\n",
        " **Ans.-Mutable data type**--->are data type that can be changed after\n",
        "         creation, we can modify them add or change in it without\n",
        "        making a   new object. Example-->List, sets, Dictionary.\n",
        "\n",
        "-      **Immutable data type**--->are data type that cannot be changed or  \n",
        "        modify after the creation.if any modification is done by us than it will creats a object. Example-->tupple etc.\n",
        "\n"
      ],
      "metadata": {
        "id": "3NJ13NSXCeIN"
      }
    },
    {
      "cell_type": "code",
      "source": [
        "#Example LIST\n",
        "s = [\"A\",\"B\",2,5,6,5.5]\n",
        "s\n",
        "['A', 'B', 2, 5, 6, 5.5]\n",
        "#change the element at 1st index\n",
        "s[1] = \"c\"\n",
        "s\n",
        "['A', 'c', 2, 5, 6, 5.5]"
      ],
      "metadata": {
        "id": "yKyJQX8DEick"
      },
      "execution_count": null,
      "outputs": []
    },
    {
      "cell_type": "markdown",
      "source": [
        "   Hence list is mutable"
      ],
      "metadata": {
        "id": "R6RYOAusEnEp"
      }
    },
    {
      "cell_type": "code",
      "source": [
        "#Example tupple\n",
        "t = (1,2,3,4,5)\n",
        "t\n",
        "(1, 2, 3, 4, 5)\n",
        "#now change the element at second index\n",
        "t[2] = 10\n",
        "t\n",
        "----------------------------------------------------------------------\n",
        "-----\n",
        "TypeError Traceback (most recent call\n",
        "last)\n",
        "Cell In[7], line 2\n",
        "1 #now change the element at second index\n",
        "----> 2 t[2] = 10\n",
        "3 t\n",
        "TypeError: 'tuple' object does not support item assignment"
      ],
      "metadata": {
        "id": "PFKuqVSUEvNb"
      },
      "execution_count": null,
      "outputs": []
    },
    {
      "cell_type": "markdown",
      "source": [
        "  it gives error hence tupple is a immutable data type.\n",
        "\n",
        "###  **Q3. What are the main differences between lists and tuples in Python?**\n",
        "\n",
        "  **Ans.-** The main difference between lists and tuples is lists are\n",
        "            mutable and tuples are immutable.\n",
        "\n",
        "###  **Q4. Describe how dictionaries store data?**          \n",
        "\n",
        "  **Ans.-**-Dictionaries store data as key-value pairs using a hash table.\n",
        "            Each key is hashed, and the value is stored at a location based\n",
        "            on that hash.\n"
      ],
      "metadata": {
        "id": "CIaO8nQtFDvP"
      }
    },
    {
      "cell_type": "code",
      "source": [
        "#Example\n",
        "rest = {\"cofee\": 100, \"pasta\": 150, \"chocolate shake\": 160, \"momos\":\n",
        "200}\n",
        "print(rest)\n",
        "{'cofee': 100, 'pasta': 150, 'chocolate shake': 160, 'momos': 200}\n"
      ],
      "metadata": {
        "id": "qCR7_otlHAoI"
      },
      "execution_count": null,
      "outputs": []
    },
    {
      "cell_type": "markdown",
      "source": [
        "### **Q5. why might you use a set instead of a list in Python?**\n",
        "\n",
        "**Ans.-Sets vs. Lists**\n",
        "\n",
        "  In Python, both sets and lists are used to store collections of elements\n",
        "  but they have key differences that make them suitable for different use\n",
        "  cases. The main difference is that lists are ordered, meaning the order\n",
        "  of elements is preserved and they can be accessed by their index while\n",
        "  sets are unordered meaning they do not maintain the order of elementsand automatically ensure all elements are unique. This article will explore the differences between sets and lists, including their properties, performance, and typical use cases.\n",
        "\n",
        "### **Q6. What is a string in Python, and how is it different from a list?**\n",
        "\n",
        " **Ans.**-A list and a string are both sequence data types, but they have some key differences:\n",
        "\n",
        "   **1) Mutable vs. Immutable**: A list is mutable, meaning you can modify its elements after it is created. On the other hand, a string is immutable, which means you cannot change its characters once it is created. Instead, you need to create a new string with the desired modifications.\n",
        "\n",
        "   **2) Collection of Elements:** A list is an ordered collection of items, where each item can be of any data type. It allows duplicates, and the elements can be accessed and modified using their indices. On the contrary, a string is an ordered collection of characters. It represents a sequence of Unicode characters and can be accessed using indices as well, but its individual characters cannot be modified due to immutability.\n",
        "\n",
        "   **3) Representation:** In Python, a list is enclosed in square brackets ([]), and its elements are separated by commas. For example: `[1, 2, 3, 4]`. In contrast, a string is enclosed in either single quotes ('') or double quotes (\"\"). For example: `'Hello'` or `\"World\"`.\n",
        "\n",
        "   **4) Operations:** Lists and strings support different operations. Lists can be modified by adding or removing elements, concatenating with other lists, slicing, and more. Strings have specific methods for string manipulation, such as concatenation (+), slicing, searching for substrings, and various formatting operations.\n",
        "\n",
        "\n",
        " ### **7. How do tuples ensure data integrity in Python?**\n",
        "\n",
        "   **Ans.-**Tuples in Python ensure data integrity through their immutability.\n",
        "          Once a tuple is created, its elements cannot be modified, added, or\n",
        "          removed. This characteristic prevents accidental or unauthorized\n",
        "          changes to the data, ensuring that the information remains consistent\n",
        "          throughout the program's execution. Immutability makes tuples suitable for storing data that should not be altered, such as configuration settings or database records. Any attempt to modify a tuple will result in a TypeError, reinforcing data integrity by\n",
        "          preventing unintended changes.\n",
        "\n",
        "\n",
        "###  **8. What is a hash table, and how does it relate to dictionaries in Python?**\n",
        "\n",
        "**Ans.-**A hash table is a data structure that stores key-value pairs, implementing an associative array or dictionary. It uses a hash function to compute and index (or \"hash\") into an array of buckets or slots, from which the desired value can be obtained.\n",
        "\n",
        "  In Python,\n",
        "   \n",
        "  dictionaries are implemented using hash tables. When a key-value\n",
        "  pair is added to a dictionary, Python calculates the hash value of the key\n",
        "  using the built-in hash() function. This hash value is then used to\n",
        "  determine the index in the underlying hash table where the value will be\n",
        "  stored. When retrieving a value, Python again calculates the hash of\n",
        "  the key and uses it to quickly locate the corresponding value.\n",
        "\n",
        "  Because Python dictionaries are based on hash tables, they inherit the characteristics of hash tables, including:\n",
        "\n",
        "  **a) Fast lookups:** Retrieving a value by key is very efficient, typically taking constant time on average.\n",
        "\n",
        "  **b) Unordered:** The order of items in a dictionary is not guaranteed (before Python 3.7).\n",
        "\n",
        "  **c) Key uniqueness:** Keys must be unique and hashable (immutable).\n",
        "\n",
        "\n",
        "###  **9. Can lists contain different data types in Python?**\n",
        "\n",
        "  **Ans.-**Yes, lists in Python can contain elements of different data types.\n",
        "       Python lists are highly flexible and can accommodate a mix of integers,\n",
        "       floats, strings, booleans, and even other lists or data structures within\n",
        "       the same list. This feature allows for the creation of heterogeneous\n",
        "       collections.\n",
        "\n",
        "\n",
        "\n",
        "\n",
        "\n"
      ],
      "metadata": {
        "id": "h1ddYGAdHJW0"
      }
    },
    {
      "cell_type": "code",
      "source": [
        "my_list = [1, \"hello\", 3.14, True, [1, 2, 3]]\n",
        "print(my_list)\n",
        "# Expected output: [1, \"hello\", 3.14, True, [1, 2, 3]]\n"
      ],
      "metadata": {
        "id": "PBSW3JnaTDlt"
      },
      "execution_count": null,
      "outputs": []
    },
    {
      "cell_type": "markdown",
      "source": [
        "While Python allows lists to contain mixed data types, it's often\n",
        "considered good practice to maintain consistency within a list,\n",
        "especially when performing operations that rely on specific data types. However, the flexibility to mix types can be useful in certain situations.\n",
        "\n",
        "\n",
        "\n",
        "###  **10.Explain why strings are immutable in Python.**\n",
        "\n",
        "**Ans.-**Strings in Python are “immutable” which means they can not be changed\n",
        "   after they are created. Some other immutable data types are integers, float,\n",
        "   boolean, etc.\n",
        "   The immutability of Python string is very useful as it helps in hashing, performance optimization, safety, ease of use, etc.\n",
        "\n",
        "  Input: name_1 = \"Aarun\"\n",
        "         name_1[0] = 'T'\n",
        "\n",
        "  Output: TypeError: 'str' object does not support item assignment\n",
        "\n",
        "   **Explanation-** We cannot update the string after declaring it means\n",
        "   once an immutable the objects instantiated, its value cannot be changed\n",
        "\n",
        "\n",
        "###   **11. What advantages do dictionaries offer over lists for certain tasks?**\n",
        "**Ans.-Advantages of dictionaries**\n",
        "\n",
        "1) Dictionaries in Python offer fast data retrieval: Unlike lists where you have to traverse through each element to find a value, dictionaries use hash tables for quick access to values based on keys.\n",
        "\n",
        "2) Easy to understand key value pairs: Dictionaries consist of key value pairs, making it easier to associate and access relevant data together.\n",
        "\n",
        "3) Dynamic data structure: Dictionaries in Python are mutable, meaning you can add, update, or remove key value pairs as needed, providing flexibility in managing data.\n",
        "\n",
        "4) Efficient for storing large amounts of data: Due to its efficient data retrieval mechanism, dictionaries are ideal for storing and accessing large datasets quickly.\n",
        "\n",
        "5) Built in methods for manipulation: Python dictionaries offer a variety of built in methods such as `get()`, `keys()`, `values()`, and `items()` for easy data manipulation and iteration.\n",
        "\n",
        "6) Useful for mapping relationships: Dictionaries are commonly used to map relationships between items, making it easy to store and retrieve interconnected data.\n",
        "\n",
        "7) Suitable for a wide range of applications: From simple key value mappings to complex data structures, dictionaries can be applied in various scenarios, making them versatile for diverse programming needs.\n",
        "\n",
        "8) Support for different data types: Python dictionaries can store and retrieve values of different data types, offering flexibility in handling a variety of information.\n",
        "\n",
        "9) Convenient for grouping related data: By using dictionaries, you can group related information under distinct keys, resulting in organized and structured data management.\n",
        "\n",
        "10) Facilitates efficient data processing: Dictionaries support efficient lookups and updates, enabling streamlined data processing operations within Python programs.\n",
        "\n",
        "11) Ideal for quick searches and retrievals: When dealing with datasets where fast searching and retrieval are crucial, dictionaries provide an optimal solution for efficient data access.\n",
        "\n",
        "12) Enhanced readability and maintainability: Using dictionaries to store data in a key value format can improve code readability and maintainability by clearly outlining the relationships between data elements.\n",
        "\n",
        "13) Enables streamlined data referencing: With dictionaries, you can easily reference specific pieces of data by their corresponding keys, simplifying the access to relevant information in your programs.\n",
        "\n",
        "14) Enables easy data organization: By structuring data in dictionaries, you can categorize and organize information effectively, promoting better data management practices.\n",
        "\n",
        "15) Supports data analysis and manipulation: Through the versatile capabilities of dictionaries, you can perform data analysis, transformation, and processing tasks efficiently, making them valuable tools for students learning about data handling and manipulation in Python.\n",
        "\n",
        "\n",
        " ###    **12.Describe a scenario where using a tuple would be preferable over a list.**\n",
        "\n",
        " **Ans.-**Use a list if you need a mutable collection of items where you may need to add, remove, or change elements. Lists are more flexible and have more\n",
        "built-in methods, making them ideal for dynamic collections. Use a tuple if\n",
        "you need an immutable collection where the elements won't change after creation.\n",
        "\n",
        "###   **13.How do sets handle duplicate values in Python?**\n",
        "\n",
        "**Ans.-Python Program to Find Duplicate sets in list of sets**\n",
        "\n",
        " **Method 1:** Using Counter() + count() + frozenset() + loop\n",
        "      n this, all the sets are hashed by converting them into frozenset()\n",
        "      [ to get hashable type ] into frequency using Counter(). Then count()\n",
        "      is used to get count of all the present sets from frequency counter created.\n",
        "\n",
        "  **Method 2:** Using list comprehension + Counter()\n",
        "\n",
        "  **Method 3:** Using nested loop\n",
        "\n",
        "  **Method 4:** Using set() and filter()\n",
        "\n",
        "  **Method 5:** Using defaultdict\n",
        "\n",
        "###   **14.How does the “in” keyword work differently for lists and dictionaries?**\n",
        "**Ans.-**The in operator uses different algorithms for lists and dictionaries.\n",
        " For lists, it uses a search algorithm. As the list gets longer, the search\n",
        " time gets longer in direct proportion. For dictionaries, Python uses an\n",
        " algorithm called a hashtable that has a remarkable property: the in operator\n",
        " takes about the same amount of time no matter how many items there are in a\n",
        "  dictionary.\n",
        "\n",
        "\n",
        "###   **15.Can you modify the elements of a tuple? Explain why or why not?**\n",
        "\n",
        "  **Ans.-**No, you cannot directly modify the elements of a tuple in Python. Tuples\n",
        "   are immutable data structures, meaning their elements cannot be changed\n",
        "  after they are created. Attempting to assign a new value to an element\n",
        "  within a tuple will raise a TypeError.\n",
        "\n",
        "  Here's why:\n",
        "\n",
        " **Immutability for Efficiency:**\n",
        "Tuples are designed to be immutable, which makes them faster to process and\n",
        " use in situations where you need to ensure data integrity and consistency.\n",
        "\n",
        "**Hashing:**\n",
        "Because tuples are immutable, they can be used as keys in dictionaries and\n",
        "as elements in sets. If a data structure's elements are mutable, then\n",
        "its hash value can change if the elements are modified, which can disrupt the operations of these data structures.\n",
        "\n",
        "**Alternatives for Modification:**\n",
        "If you need to modify a collection of elements, you should use a list instead, as lists are mutable. You can also create a new tuple with the desired changes by using techniques like tuple slicing or list conversion.\n",
        "\n",
        "\n",
        "###  **16.What is a nested dictionary, and give an example of its use case?**\n",
        "\n",
        "**Ans.-**A nested dictionary in Python is a dictionary whose values are themselves dictionaries. This allows for a hierarchical structure, where you can organize data into multiple levels of key-value pairs. A common use case is storing information with a hierarchical structure, like employee records organized by department.\n",
        "\n",
        " Here's an example:\n",
        "\n",
        "\n",
        "\n",
        "\n",
        "\n",
        "\n",
        "\n"
      ],
      "metadata": {
        "id": "XcD_jOhmTNli"
      }
    },
    {
      "cell_type": "code",
      "source": [
        "employees = {\n",
        "    \"Engineering\": {\n",
        "        \"John\": {\"id\": 101, \"salary\": 75000},\n",
        "        \"Jane\": {\"id\": 102, \"salary\": 80000}\n",
        "    },\n",
        "    \"Sales\": {\n",
        "        \"Peter\": {\"id\": 201, \"salary\": 60000},\n",
        "        \"Mary\": {\"id\": 202, \"salary\": 65000}\n",
        "    }\n",
        "}\n"
      ],
      "metadata": {
        "id": "A4aJJFx3cwdJ"
      },
      "execution_count": null,
      "outputs": []
    },
    {
      "cell_type": "markdown",
      "source": [
        "In this example,\n",
        " the employees dictionary has keys like \"Engineering\"and \"Sales\". The values associated with these keys are dictionaries themselves.Each inner dictionary stores details about specific employees, like their ID and salary. This structure allows you to access an employee's informatiou using multiple levels of keys, like employees[\"Engineering\"][\"John\"][\"salary\"]to get John's salary.\n",
        "\n",
        "\n",
        "###  **17. Describe the time complexity of accessing elements in a dictionary.**\n",
        "\n",
        " **Ans.-Time Complexities of Python Dictionary,**\n",
        "\n",
        "  Python dictionaries provide a fast and efficient way to store and retrieve\n",
        "  data using key value pair so understanding the time complexities of\n",
        "  dictionary operations is very important for optimizing performance in our\n",
        "  programs.\n",
        "\n",
        "  **Accessing Elements by Key (O(1))**\n",
        "\n",
        "The time complexity of retrieving a value by its key in a dictionary is O(1).\n",
        "This is because dictionaries use a hash table internally which allows constant\n",
        "time lookup.\n",
        "\n",
        "Example:\n",
        "\n",
        "\n"
      ],
      "metadata": {
        "id": "jyWnOf0Ydfs-"
      }
    },
    {
      "cell_type": "code",
      "source": [
        "# Create a dictionary\n",
        "dict = {'a': 1, 'b': 2, 'c': 3}\n",
        "\n",
        "# Access value by key\n",
        "val = dict['b']\n",
        "print(val)\n"
      ],
      "metadata": {
        "id": "3X1au_5Ce48J"
      },
      "execution_count": null,
      "outputs": []
    },
    {
      "cell_type": "markdown",
      "source": [
        "**Deleting an Element (O(1))**\n",
        "\n",
        " Removing an element by its key also has an average time complexity of\n",
        " O(1) using the same hash table mechanism.\n",
        ""
      ],
      "metadata": {
        "id": "KZEfn4Mpe8iS"
      }
    },
    {
      "cell_type": "code",
      "source": [
        "dict = {'a': 1, 'b': 2, 'c': 3}\n",
        "# Remove a key-value pair\n",
        "del dict['b']\n",
        "print(dict)\n"
      ],
      "metadata": {
        "id": "qI0rR4uVfOys"
      },
      "execution_count": null,
      "outputs": []
    },
    {
      "cell_type": "markdown",
      "source": [
        "**Checking if a Key Exists (O(1))**\n",
        "\n",
        "   The'in' keyword allows us to check if a key exists in the dictionary with an average complexity of O(1).\n",
        "   "
      ],
      "metadata": {
        "id": "JJaQFtRrfTNV"
      }
    },
    {
      "cell_type": "code",
      "source": [
        "# Check for a key\n",
        "dict = {'a': 1, 'b': 2, 'c': 3}\n",
        "\n",
        "print('a' in dict)\n",
        "print('b' in dict)\n"
      ],
      "metadata": {
        "id": "Znhq5OK7fnIr"
      },
      "execution_count": null,
      "outputs": []
    },
    {
      "cell_type": "markdown",
      "source": [
        "**Iterating Over a Dictionary (O(n))**\n",
        "\n",
        "Iterating over keys, values, or items in a dictionary has a time complexity\n",
        "of O(n) where n is the number of elements.\n"
      ],
      "metadata": {
        "id": "ZMc4CaoXfpBg"
      }
    },
    {
      "cell_type": "code",
      "source": [
        "# Iterate over keys\n",
        "dict = {'a': 1, 'b': 2, 'c': 3}\n",
        "\n",
        "for key in dict:\n",
        "    print(key)\n",
        "\n",
        "# Iterate over values\n",
        "for val in dict.values():\n",
        "    print(val)\n",
        "\n",
        "# Iterate over items\n",
        "for key, val in dict.items():\n",
        "    print(key, val)\n"
      ],
      "metadata": {
        "id": "gko5jgcxfzQO"
      },
      "execution_count": null,
      "outputs": []
    },
    {
      "cell_type": "markdown",
      "source": [
        "**Getting All Keys or Values (O(n))**\n",
        "\n",
        "Using the keys() or values() method to retrieve all keys or values\n",
        "takes O(n) time since it involves traversing the dictionary.\n"
      ],
      "metadata": {
        "id": "SJOBLtJXf2lb"
      }
    },
    {
      "cell_type": "code",
      "source": [
        "# Get all keys\n",
        "dict = {'a': 1, 'b': 2, 'c': 3}\n",
        "\n",
        "key = list(dict.keys())\n",
        "print(key)\n",
        "\n",
        "# Get all values\n",
        "val = list(dict.values())\n",
        "print(val)\n"
      ],
      "metadata": {
        "id": "KbBQ9nNvgByi"
      },
      "execution_count": null,
      "outputs": []
    },
    {
      "cell_type": "markdown",
      "source": [
        "###   **17. In what situations are lists preferred over dictionaries?**\n",
        "\n",
        "**Ans.-**Lists perform faster for ordered operations like sorting, while\n",
        "     dictionaries perform faster for lookup operations.\n",
        "\n",
        "     for example:-\n",
        "\n",
        "  **Lists in Python**\n",
        "\n",
        "  In Python, a list is a built-in dynamic sized array (automatically grows and\n",
        "  shrinks). We can store all types of items (including another list) in a list.\n",
        "  A list may contain mixed type of items, this is possible because a list\n",
        "  mainly stores references at contiguous locations and actual items maybe\n",
        "  stored at different locations.\n",
        "\n",
        "\n",
        "**Example:** In this example, we will see how to create a simple\n",
        " one-dimensional list as well as a two-dimensional list in Python and\n",
        " access its values using the list index.\n",
        ""
      ],
      "metadata": {
        "id": "Y99lRVoqgRQp"
      }
    },
    {
      "cell_type": "code",
      "source": [
        "# Python program to demonstrate Lists\n",
        "\n",
        "# Creating a 1D List\n",
        "a = [\"Geeks\", \"For\", \"Geeks\"] # List of Strings\n",
        "print(a)\n",
        "\n",
        "# Accessing particular elements\n",
        "print(a[0])\n",
        "print(a[0][1])\n",
        "print(a[1])\n",
        "\n",
        "# Creating a 2D List\n",
        "a = [['Geeks', 'For'], ['Geeks']]\n",
        "print(a)\n",
        "\n",
        "# Accessing particular elements\n",
        "print(a[0])\n",
        "print(a[0][1])\n",
        "print(a[1])\n"
      ],
      "metadata": {
        "id": "DyWwWoIghmz6"
      },
      "execution_count": null,
      "outputs": []
    },
    {
      "cell_type": "markdown",
      "source": [
        " ###  **19. Why are dictionaries considered unordered, and how does that affect data retrieval**\n",
        "\n",
        " **Ans.-**Because you dont pull info out based on index like lists.\n",
        " list[4][2] Would pull the third item from the fifth list in list Dictionaries use keys, so it doesnt actually matter where the item is in the dictionary, you search with keys. Dict['job']['pay'] Would look for the key 'job' then inside job it would look for the key 'pay', and whatever 'pay's value is is what would be returned.\n",
        "\n",
        "\n",
        "###   **20. Explain the difference between a list and a dictionary in terms of data retrieval.**\n",
        "\n",
        "**Ans.-**In terms of data retrieval, a dictionary excels at fast lookups by key,\n",
        "     while a list is better suited for sequential access by index.\n",
        "     Dictionaries use a hash-based approach, allowing for nearly\n",
        "     instantaneous retrieval of a value when the key is known, whereas\n",
        "     lists require traversing the list sequentially until the desired\n",
        "     element is found.\n",
        "\n",
        "\n",
        "**Lists:-**\n",
        "\n",
        "**a)** Elements are accessed by their position (index) in the sequence.\n",
        "\n",
        "**b)** Retrieval time is proportional to the list's size, as elements need to be\n",
        "checked one by one.\n",
        "\n",
        "**c)** Best for ordered collections where you know the position of the desired\n",
        " element.\n",
        "\n",
        "**Dictionaries:-**\n",
        "\n",
        "**a)** Elements are accessed by their associated key.\n",
        "\n",
        "**b)** Retrieval time is very fast (close to O(1) or constant time) due to the use of a hash table.\n",
        "\n",
        "**c)**Ideal for scenarios where you need to quickly look up data based on a unique identifier.\n",
        "\n",
        "#        **Practical Questions**\n",
        "\n",
        "###     **1.Write a code to create a string with your name and print it.**\n",
        "\n",
        "**Ans.-**\n",
        "\n",
        "\n"
      ],
      "metadata": {
        "id": "opS9X2SShsj5"
      }
    },
    {
      "cell_type": "code",
      "source": [
        "s = \"PRIYA\"\n",
        "print(s)\n",
        "PRIYA"
      ],
      "metadata": {
        "id": "mRAVlX0hktWB"
      },
      "execution_count": null,
      "outputs": []
    },
    {
      "cell_type": "markdown",
      "source": [
        " ###    **2. Write a code to find the length of the string \"Hello World\".**\n",
        " **Ans.-**\n"
      ],
      "metadata": {
        "id": "y6vSJN3Qk7Ww"
      }
    },
    {
      "cell_type": "code",
      "source": [
        "a = len(\"Hello World\")\n",
        "print(a)\n",
        "11"
      ],
      "metadata": {
        "id": "9bbw3SvJlfuz"
      },
      "execution_count": null,
      "outputs": []
    },
    {
      "cell_type": "markdown",
      "source": [
        " ###  **3.Write a code to slice the first 3 characters from the string \"Python Programming\".**\n",
        "**Ans.-**\n",
        ""
      ],
      "metadata": {
        "id": "URWBJE8elok2"
      }
    },
    {
      "cell_type": "code",
      "source": [
        "s = \"Gazal\"\n",
        "print(s[0:3])\n",
        "Gaz"
      ],
      "metadata": {
        "id": "u5Go9_WkmFQt"
      },
      "execution_count": null,
      "outputs": []
    },
    {
      "cell_type": "markdown",
      "source": [
        "###  **4.Write a code to convert the string \"hello\" to uppercase.**\n",
        "**Ans.-**\n"
      ],
      "metadata": {
        "id": "JS9vpazpmKQ4"
      }
    },
    {
      "cell_type": "code",
      "source": [
        "text = \"hello\"\n",
        "print(text.upper())\n",
        "HELLO"
      ],
      "metadata": {
        "id": "V37sNfjAmhO9"
      },
      "execution_count": null,
      "outputs": []
    },
    {
      "cell_type": "markdown",
      "source": [
        "###  **5.Write a code to replace the word \"apple\" with \"orange\" in the string \"I like apple\"**\n",
        "**Ans.-**"
      ],
      "metadata": {
        "id": "7fTuYYLZmlbF"
      }
    },
    {
      "cell_type": "code",
      "source": [
        "s = \"I like apple\"\n",
        "print(s.replace(\"apple\" , \"orange\"))\n",
        "I like orange"
      ],
      "metadata": {
        "id": "qYEb9hU2m3qa"
      },
      "execution_count": null,
      "outputs": []
    },
    {
      "cell_type": "markdown",
      "source": [
        "###  **6.Write a code to create a list with numbers 1 to 5 and print it.**\n",
        "**Ans.-**\n"
      ],
      "metadata": {
        "id": "yePmr41nm8Gr"
      }
    },
    {
      "cell_type": "code",
      "source": [
        "list = [1,2,3,4,5]\n",
        "for i in list:\n",
        "print(i, end=\" \")\n",
        "1 2 3 4 5"
      ],
      "metadata": {
        "id": "MeR6cIVMnLl9"
      },
      "execution_count": null,
      "outputs": []
    },
    {
      "cell_type": "markdown",
      "source": [
        "### **7. Write a code to append the number 10 to the list [1, 2, 3, 4].**\n",
        "**Ans.-**"
      ],
      "metadata": {
        "id": "GgSeEPdBnYoZ"
      }
    },
    {
      "cell_type": "code",
      "source": [
        "list = [1,2,3,4]\n",
        "list.append(10)\n",
        "print(list)\n",
        "[1, 2, 3, 4, 10]\n"
      ],
      "metadata": {
        "id": "tE7wGL3Inp9o"
      },
      "execution_count": null,
      "outputs": []
    },
    {
      "cell_type": "markdown",
      "source": [
        "### **8.Write a code to remove the number 3 from the list [1, 2, 3, 4, 5].**\n",
        "**Ans.-**\n",
        "\n"
      ],
      "metadata": {
        "id": "qKcoyZX8nwdc"
      }
    },
    {
      "cell_type": "code",
      "source": [
        "list = [1,2,3,4,5]\n",
        "list.remove(3)\n",
        "print(list)\n",
        "\n",
        "[1, 2, 4, 5]"
      ],
      "metadata": {
        "id": "pmd1cQyioBV_"
      },
      "execution_count": null,
      "outputs": []
    },
    {
      "cell_type": "markdown",
      "source": [
        "### **9.Write a code to access the second element in the list ['a', 'b', 'c', 'd'].**\n",
        "**Ans.-**"
      ],
      "metadata": {
        "id": "cirEY7lboINL"
      }
    },
    {
      "cell_type": "code",
      "source": [
        "list = [\"a\",\"b\",\"c\",\"d\"]\n",
        "print(list[1])\n",
        "b"
      ],
      "metadata": {
        "id": "2IzoXIc2oWst"
      },
      "execution_count": null,
      "outputs": []
    },
    {
      "cell_type": "markdown",
      "source": [
        "### **10.Write a code to reverse the list [10, 20, 30, 40, 50].**\n",
        "**Ans**"
      ],
      "metadata": {
        "id": "z3GFD_NsowG6"
      }
    },
    {
      "cell_type": "code",
      "source": [
        "s = [10,20,30,40,50]\n",
        "rev = s[::-1] #by using slicing\n",
        "print(rev)\n",
        "[50, 40, 30, 20, 10]"
      ],
      "metadata": {
        "id": "xrQ_tPZqo7_l"
      },
      "execution_count": null,
      "outputs": []
    },
    {
      "cell_type": "markdown",
      "source": [
        "### **11.Write a code to create a tuple with the elements 100, 200, 300 and print it.**\n",
        "**Ans.-**"
      ],
      "metadata": {
        "id": "AO61VeeOpFJF"
      }
    },
    {
      "cell_type": "code",
      "source": [
        "t = (100,200,300)\n",
        "print(t)\n",
        "(100, 200, 300)"
      ],
      "metadata": {
        "id": "ygumRpywpTJH"
      },
      "execution_count": null,
      "outputs": []
    },
    {
      "cell_type": "markdown",
      "source": [
        "### **12. Write a code to access the second-to-last element of the tuple ('red', 'green', 'blue', 'yellow').**\n",
        "**Ans.-**"
      ],
      "metadata": {
        "id": "PcfmzsW8pjIE"
      }
    },
    {
      "cell_type": "code",
      "source": [
        "tup = (\"red\",\"green\",\"blue\",\"yellow\")\n",
        "print(tup[1:4])\n",
        "('green', 'blue', 'yellow')"
      ],
      "metadata": {
        "id": "edhu96eVp3Gx"
      },
      "execution_count": null,
      "outputs": []
    },
    {
      "cell_type": "markdown",
      "source": [
        "### **13.Write a code to find the minimum number in the tuple (10, 20, 5, 15).**\n",
        "**Ans.-**\n"
      ],
      "metadata": {
        "id": "JcLU8U1gqCjD"
      }
    },
    {
      "cell_type": "code",
      "source": [],
      "metadata": {
        "id": "hCE-1IAXp-aC"
      },
      "execution_count": null,
      "outputs": []
    },
    {
      "cell_type": "code",
      "source": [
        "tup = (10,20,5,15)\n",
        "print(min(tup))\n",
        "5"
      ],
      "metadata": {
        "id": "OAAjF1szqbET"
      },
      "execution_count": null,
      "outputs": []
    },
    {
      "cell_type": "markdown",
      "source": [
        "### **14. Write a code to find the index of the element \"cat\" in the tuple ('dog', 'cat', 'rabbit').**\n",
        "**Ans.-**"
      ],
      "metadata": {
        "id": "MzHn7Xljqi5c"
      }
    },
    {
      "cell_type": "code",
      "source": [
        "tup = ('dog', 'cat', 'rabbit')\n",
        "print(tup.index(\"cat\"))\n",
        "1"
      ],
      "metadata": {
        "id": "bM3GKp9-qwxr"
      },
      "execution_count": null,
      "outputs": []
    },
    {
      "cell_type": "markdown",
      "source": [
        "### **15. Write a code to create a tuple containing three different fruits and check if \"kiwi\" is in it.**\n",
        "**Ans.-**"
      ],
      "metadata": {
        "id": "KRwBCEOaq3Xu"
      }
    },
    {
      "cell_type": "code",
      "source": [
        "phal = (\"apple\", \"banana\", \"kiwi\")\n",
        "\"kiwi\" in phal\n",
        "True"
      ],
      "metadata": {
        "id": "BgUrfeJ8rWZu"
      },
      "execution_count": null,
      "outputs": []
    },
    {
      "cell_type": "markdown",
      "source": [
        "### **16. Write a code to create a set with the elements 'a', 'b', 'c' and print it**\n",
        "**Ans.-**\n"
      ],
      "metadata": {
        "id": "pFwMQXbrreVX"
      }
    },
    {
      "cell_type": "code",
      "source": [
        "s = {\"a\",\"b\",\"c\"}\n",
        "print(s)\n",
        "{'c', 'a', 'b'}"
      ],
      "metadata": {
        "id": "TQGQGc05r_0p"
      },
      "execution_count": null,
      "outputs": []
    },
    {
      "cell_type": "markdown",
      "source": [
        "### **17. Write a code to clear all elements from the set {1, 2, 3, 4, 5}.**\n",
        "**Ans.-**"
      ],
      "metadata": {
        "id": "yVocY4zZsEFI"
      }
    },
    {
      "cell_type": "code",
      "source": [
        "s = {1, 2, 3, 4, 5}\n",
        "s.clear()\n",
        "print(s)\n",
        "set()"
      ],
      "metadata": {
        "id": "Ntt2c1fMsXGP"
      },
      "execution_count": null,
      "outputs": []
    },
    {
      "cell_type": "markdown",
      "source": [
        "### **18. Write a code to remove the element 4 from the set {1, 2, 3, 4}.**\n",
        "**Ans.-**"
      ],
      "metadata": {
        "id": "97p1k_AXspAa"
      }
    },
    {
      "cell_type": "code",
      "source": [
        "s = {1, 2, 3, 4}\n",
        "s.remove(4)\n",
        "print(s)\n",
        "{1, 2, 3}"
      ],
      "metadata": {
        "id": "kvRxwQcqs6dl"
      },
      "execution_count": null,
      "outputs": []
    },
    {
      "cell_type": "markdown",
      "source": [
        "### **19. Write a code to find the union of two sets {1, 2, 3} and {3, 4, 5}.**\n",
        "**Ans.-**"
      ],
      "metadata": {
        "id": "Q8O8dqhltCz_"
      }
    },
    {
      "cell_type": "code",
      "source": [
        "s1 = {1,2,3}\n",
        "s2 = {3,4,5}\n",
        "print(s1.union(s2))\n",
        "{1, 2, 3, 4, 5}"
      ],
      "metadata": {
        "id": "EqBYIZLRtXBT"
      },
      "execution_count": null,
      "outputs": []
    },
    {
      "cell_type": "markdown",
      "source": [
        "### **20. Write a code to find the intersection of two sets {1, 2, 3} and {2, 3, 4}.**\n",
        "**Ans.-**"
      ],
      "metadata": {
        "id": "mMrunPUitf1J"
      }
    },
    {
      "cell_type": "code",
      "source": [
        "s1 = {1,2,3}\n",
        "s2 = {2,3,4}\n",
        "print(s1.intersection(s2))\n",
        "{2, 3}"
      ],
      "metadata": {
        "id": "m9MIWOzUtxGR"
      },
      "execution_count": null,
      "outputs": []
    },
    {
      "cell_type": "markdown",
      "source": [
        "### **21.Write a code to create a dictionary with the keys \"name\", \"age\", and \"city\", and print it.**\n",
        "**Ans.-**\n"
      ],
      "metadata": {
        "id": "Bu5J9Bzit2PQ"
      }
    },
    {
      "cell_type": "code",
      "source": [
        "dict = {\"name\":\"siddhant\", \"age\":23, \"city\":\"delhi\"}\n",
        "print(dict)\n",
        "\n",
        "{'name': 'siddhant', 'age': 23, 'city': 'delhi'}"
      ],
      "metadata": {
        "id": "A7LWDa93uEsB"
      },
      "execution_count": null,
      "outputs": []
    },
    {
      "cell_type": "markdown",
      "source": [
        "### **22.Write a code to add a new key-value pair \"country\": \"USA\" to the dictionary {'name': 'John', 'age': 25}.**\n",
        "**Ans.-**\n"
      ],
      "metadata": {
        "id": "Fk2CsOzNuM3P"
      }
    },
    {
      "cell_type": "code",
      "source": [
        "dict = {'name': 'John', 'age': 25}\n",
        "dict[\"country\"] = \"USA\"\n",
        "print(dict)\n",
        "{'name': 'John', 'age': 25, 'country': 'USA'}"
      ],
      "metadata": {
        "id": "D1EXejBbufrR"
      },
      "execution_count": null,
      "outputs": []
    },
    {
      "cell_type": "markdown",
      "source": [
        "### **23. Write a code to access the value associated with the key \"name\" in the dictionary {'name': 'Alice', 'age': 30}.**\n",
        "**Ans.-**"
      ],
      "metadata": {
        "id": "kLfkqtDQujTO"
      }
    },
    {
      "cell_type": "code",
      "source": [
        "dict = {'name': 'Alice', 'age': 30}\n",
        "print(dict[\"name\"])\n",
        "Alice"
      ],
      "metadata": {
        "id": "PClvlzwTux75"
      },
      "execution_count": null,
      "outputs": []
    },
    {
      "cell_type": "markdown",
      "source": [
        "### **24. Write a code to remove the key \"age\" from the dictionary {'name': 'Bob', 'age': 22, 'city': 'New York'}.**\n",
        "**Ans.-**\n"
      ],
      "metadata": {
        "id": "wLuD-byZu3UG"
      }
    },
    {
      "cell_type": "code",
      "source": [
        "dict = {'name': 'Bob', 'age': 22, 'city': 'New York'}\n",
        "dict.pop(\"age\")\n",
        "print(dict)\n",
        "{'name': 'Bob', 'city': 'New York'}"
      ],
      "metadata": {
        "id": "cPiSAAX2vHHV"
      },
      "execution_count": null,
      "outputs": []
    },
    {
      "cell_type": "markdown",
      "source": [
        "### **25.Write a code to check if the key \"city\" exists in the dictionary {'name': 'Alice', 'city': 'Paris'}.**\n",
        "**Ans.-**\n"
      ],
      "metadata": {
        "id": "aErA6pPYvK61"
      }
    },
    {
      "cell_type": "code",
      "source": [
        "dict = {'name': 'Alice', 'city': 'Paris'}\n",
        "\"city\" in dict\n",
        "True"
      ],
      "metadata": {
        "id": "NpB1gPDfvcJk"
      },
      "execution_count": null,
      "outputs": []
    },
    {
      "cell_type": "markdown",
      "source": [
        "### **26.Write a code to create a list, a tuple, and a dictionary, and print them all.**\n",
        "**Ans.-**\n"
      ],
      "metadata": {
        "id": "eUsEMBsrvi--"
      }
    },
    {
      "cell_type": "code",
      "source": [
        "#list\n",
        "list = [1,2,3,\"sidd\",\"golu\",2.2]\n",
        "tuple = (\"sidd\", \"hello\",\"cutie\",7,8)\n",
        "dict = {\"monday\":\"cheast\", \"tursday\":\"back\", \"wed\":\"bi\", \"thur\":\"tri\"}\n",
        "print(\"mai hu list\", lis,\"\\n\")\n",
        "print(\"mai hu tuple\", tup, \"\\n\")\n",
        "print(\"mai hu dictionary\",dict)\n",
        "mai hu list [1, 2, 3, 'sidd', 'golu', 2.2]\n",
        "mai hu tuple ('sidd', 'hello', 'cutie', 7, 8)\n",
        "\n",
        "mai hu dictionary {'monday': 'cheast', 'tursday': 'back', 'wed': 'bi',\n",
        "'thur': 'tri'}"
      ],
      "metadata": {
        "id": "aUZQqrMDvu21"
      },
      "execution_count": null,
      "outputs": []
    },
    {
      "cell_type": "markdown",
      "source": [
        "### **27. Write a code to create a list of 5 random numbers between 1 and 100, sort it in ascending order, and print the result.**\n",
        "**Ans.-**\n",
        "\n"
      ],
      "metadata": {
        "id": "tDC7l-V6wAjx"
      }
    },
    {
      "cell_type": "code",
      "source": [
        "list = [45,85,32,12,75]\n",
        "list.sort()\n",
        "print(list)\n",
        "[12, 32, 45, 75, 85]"
      ],
      "metadata": {
        "id": "geBHseKOwP0D"
      },
      "execution_count": null,
      "outputs": []
    },
    {
      "cell_type": "markdown",
      "source": [
        "### **28. Write a code to create a list with strings and print the element at the third index.**\n",
        "**Ans.-**\n"
      ],
      "metadata": {
        "id": "3MI94pJAwuqk"
      }
    },
    {
      "cell_type": "code",
      "source": [
        "a = [1, 2, 3, 4, 5]\n",
        "print(a)\n",
        "#output:-[1, 2, 3, 4, 5]\n"
      ],
      "metadata": {
        "id": "2XkKG15Jw4m4"
      },
      "execution_count": null,
      "outputs": []
    },
    {
      "cell_type": "markdown",
      "source": [
        "### **29.Write a code to combine two dictionaries into one and print the result.**\n",
        "**Ans.-**\n"
      ],
      "metadata": {
        "id": "67DMTaVdxLYI"
      }
    },
    {
      "cell_type": "code",
      "source": [
        "# Python program to combine two dictionary\n",
        "# adding values for common keys\n",
        "# initializing two dictionaries\n",
        "dict1 = {'a': 12, 'for': 25, 'c': 9}\n",
        "dict2 = {'Geeks': 100, 'geek': 200, 'for': 300}\n",
        "\n",
        "\n",
        "# adding the values with common key\n",
        "for key in dict2:\n",
        "\tif key in dict1:\n",
        "\t\tdict2[key] = dict2[key] + dict1[key]\n",
        "\telse:\n",
        "\t\tpass\n",
        "\n",
        "print(dict2)\n",
        "#output:-{'Geeks': 100, 'geek': 200, 'for': 325}"
      ],
      "metadata": {
        "id": "4tM5s1ekxby7"
      },
      "execution_count": null,
      "outputs": []
    },
    {
      "cell_type": "markdown",
      "source": [
        "### **30. Write a code to convert a list of strings into a set.**\n",
        "**Ans.-**"
      ],
      "metadata": {
        "id": "nH5shzRuxlMx"
      }
    },
    {
      "cell_type": "code",
      "source": [
        "s = \"Geeks\"\n",
        "\n",
        "print(type(s))\n",
        "print(s)\n",
        "\n",
        "# Convert String to Set\n",
        "set_s = set(s)\n",
        "\n",
        "print(type(set_s))\n",
        "print(set_s)\n",
        "\n",
        "#<class 'str'>\n",
        "Geeks\n",
        "<class 'set'>\n",
        "{'s', 'e', 'k', 'G'}\n"
      ],
      "metadata": {
        "id": "nRMdn9B2xvLl"
      },
      "execution_count": null,
      "outputs": []
    }
  ]
}